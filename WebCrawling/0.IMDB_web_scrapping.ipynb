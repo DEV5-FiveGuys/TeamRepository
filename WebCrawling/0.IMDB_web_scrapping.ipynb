{
 "cells": [
  {
   "cell_type": "markdown",
   "id": "48065d65-0254-44f0-9b61-3f934cc1f00c",
   "metadata": {},
   "source": [
    "# 0. 준비"
   ]
  },
  {
   "cell_type": "code",
   "execution_count": 4,
   "id": "f82b265c-59c0-4abd-bc4f-a5e1eaaa5d03",
   "metadata": {},
   "outputs": [],
   "source": [
    "# 라이브러리를 불러옵니다.\n",
    "import time\n",
    "import requests\n",
    "from bs4 import BeautifulSoup\n",
    "from selenium import webdriver\n",
    "from selenium.webdriver.chrome.service import Service\n",
    "from webdriver_manager.chrome import ChromeDriverManager\n",
    "from selenium.webdriver.common.by import By\n",
    "from selenium.webdriver import ActionChains\n",
    "from selenium.webdriver.support.ui import WebDriverWait\n",
    "from selenium.webdriver.support import expected_conditions as EC"
   ]
  },
  {
   "cell_type": "markdown",
   "id": "33cb7935-0469-4e7e-899b-e6e449f94f9f",
   "metadata": {},
   "source": [
    "# 1. 불러오기"
   ]
  },
  {
   "cell_type": "code",
   "execution_count": 12,
   "id": "8616c5f9-13e3-4794-afab-49235bae33ee",
   "metadata": {},
   "outputs": [
    {
     "name": "stdout",
     "output_type": "stream",
     "text": [
      "Processing item 1...\n",
      "Processing item 2...\n",
      "Processing item 3...\n",
      "Processing item 4...\n",
      "Processing item 5...\n",
      "Processing item 6...\n",
      "Processing item 7...\n",
      "Processing item 8...\n",
      "Processing item 9...\n",
      "Processing item 10...\n",
      "Processing item 1...\n",
      "Processing item 2...\n",
      "Processing item 3...\n",
      "Processing item 4...\n",
      "Processing item 5...\n",
      "Processing item 6...\n",
      "Processing item 7...\n",
      "Processing item 8...\n",
      "Processing item 9...\n",
      "Processing item 10...\n",
      "JSON 파일이 성공적으로 저장되었습니다!\n"
     ]
    }
   ],
   "source": [
    "from selenium import webdriver\n",
    "from selenium.webdriver.common.by import By\n",
    "from selenium.webdriver.support.ui import WebDriverWait\n",
    "from selenium.webdriver.support import expected_conditions as EC\n",
    "from selenium.webdriver.chrome.service import Service\n",
    "from webdriver_manager.chrome import ChromeDriverManager\n",
    "from selenium.webdriver import ActionChains\n",
    "import time\n",
    "import json \n",
    "\n",
    "\n",
    "def click_button(driver, wait, xpath):\n",
    "    \"\"\"주어진 XPath의 버튼을 클릭.\"\"\"\n",
    "    button = wait.until(EC.element_to_be_clickable((By.XPATH, xpath)))\n",
    "    ActionChains(driver).click(button).perform()\n",
    "\n",
    "\n",
    "def scrape_content(wait, common_path, relative_loc):\n",
    "    \"\"\"모달에서 콘텐츠를 추출.\"\"\"\n",
    "    content_dict = {}\n",
    "    for key, value in relative_loc.items():\n",
    "        try:\n",
    "            if key == 'img':\n",
    "                content_dict[key] = wait.until(EC.presence_of_element_located((By.XPATH, common_path + value))).get_attribute('src')\n",
    "            else:\n",
    "                content_dict[key] = wait.until(EC.presence_of_element_located((By.XPATH, common_path + value))).text\n",
    "        except Exception as e:\n",
    "            print(f\"Error fetching {key}: {e}\")\n",
    "    return content_dict\n",
    "\n",
    "def extract_elements(driver, content, common_path, elements_path):\n",
    "    \"\"\"\n",
    "    모델에서 여러값을 가진 콘텐츠를 리스트로 추출\n",
    "    :param content: dict, 콘텐츠가 담김\n",
    "    :param elements_path: dict, genre와 stars의 여러 요소가 포함된 XPATH가 담겨있음\n",
    "    \"\"\"\n",
    "    \n",
    "    for key, xpath_template in elements_path.items():\n",
    "        elements = []\n",
    "        i = 1\n",
    "        while True:\n",
    "            try:\n",
    "                # 요소를 찾기 위한 전체 XPATH\n",
    "                xpath = f\"{common_path}{xpath_template.format(i)}\"\n",
    "                element = driver.find_element(By.XPATH, xpath)\n",
    "                elements.append(element.text)\n",
    "                i += 1\n",
    "            except Exception:  # 더이상 요소가 발견되지 않으면 멈춤\n",
    "                break\n",
    "        content[key] = elements\n",
    "    \n",
    "    return content\n",
    "\n",
    "def main(country_code='KR', top_n=10): # top_n <= 50까지만 문제없이 작동함\n",
    "    \"\"\"메인 함수.\"\"\"\n",
    "    result = []\n",
    "    url = f'https://www.imdb.com/search/title/?countries={country_code}'\n",
    "    common_path = '/html/body/div[4]/div[2]/div/div[2]/div/div'\n",
    "    relative_loc = {\n",
    "        'img': '/div[1]/div[1]/div/div/img',\n",
    "        'title': '/div[1]/div[2]/div[1]/a/h3',\n",
    "        'year': '/div[1]/div[2]/ul[1]/li[1]',\n",
    "        'score': '/div[1]/div[2]/div[2]/span/span[1]',\n",
    "        'summary': '/div[2]'\n",
    "    }\n",
    "    \n",
    "\n",
    "    elements_path ={'genre': '/div[1]/div[2]/ul[2]/li[{}]','stars': '/div[3]/div/ul/li[{}]'}\n",
    "    \n",
    "    with webdriver.Chrome(service=Service(ChromeDriverManager().install())) as driver:\n",
    "        driver.get(url)\n",
    "        wait = WebDriverWait(driver, 20)  # WebDriverWait의 타임아웃 시간을 늘림\n",
    "\n",
    "\n",
    "        for i in range(1, top_n + 1):\n",
    "            print(f\"Processing item {i}...\")\n",
    "            try:\n",
    "                # 버튼 클릭\n",
    "                button_xpath = f'//*[@id=\"__next\"]/main/div[2]/div[3]/section/section/div/section/section/div[2]/div/section/div[2]/div[2]/ul/li[{i}]/div/div/div/div[1]/div[3]/button'\n",
    "                click_button(driver, wait, button_xpath)\n",
    "                time.sleep(0.5)\n",
    "\n",
    "                # 콘텐츠 크롤링\n",
    "                content = scrape_content(wait, common_path, relative_loc)\n",
    "                \n",
    "                time.sleep(2)\n",
    "\n",
    "                # content_dict에 국가코드 추가\n",
    "                content['country'] = country_code\n",
    "\n",
    "                # content_dict에 장르, 배우 등 list요소 추가 \n",
    "                content = extract_elements(driver, content, common_path, elements_path)\n",
    "\n",
    "                # content_dict에 순위 추가\n",
    "                content['rank'] = i\n",
    "\n",
    "                result.append(content)\n",
    "\n",
    "                # 모달 닫기\n",
    "                close_button_xpath = '/html/body/div[4]/div[2]/div/div[1]/button'\n",
    "                click_button(driver, wait, close_button_xpath)\n",
    "                time.sleep(0.5)\n",
    "\n",
    "            except Exception as e:\n",
    "                print(f\"Error processing item {i}: {e}\")\n",
    "                \n",
    "    return result\n",
    "\n",
    "\n",
    "if __name__ == \"__main__\":\n",
    "    result = []\n",
    "    countries = [\"KR\",\"KP\"]\n",
    "\n",
    "    for country in countries:\n",
    "        result.extend(main(country_code=country, top_n=10))\n",
    "    \n",
    "    # JSON 파일로 저장\n",
    "    \n",
    "    with open('movies_data.json', 'w', encoding='utf-8') as f:\n",
    "        json.dump(result, f, ensure_ascii=False, indent=4)\n",
    "    \n",
    "    print(\"JSON 파일이 성공적으로 저장되었습니다!\")\n",
    "    \n"
   ]
  },
  {
   "cell_type": "markdown",
   "id": "4c34008d-d97c-4ffb-813a-b7853de51b5b",
   "metadata": {},
   "source": [
    "# 더 필요한 크롤링\n",
    "- 국가별 링크(고유id) 크롤링 -> DB화\n",
    "- 영화 포스터 링크\n"
   ]
  },
  {
   "cell_type": "markdown",
   "id": "3d1889de-041b-4117-aadb-fb818ce333bf",
   "metadata": {},
   "source": [
    "## 영화 포스터 링크"
   ]
  },
  {
   "cell_type": "markdown",
   "id": "493d7954-4f4a-498f-9f9e-36f8b5e02d13",
   "metadata": {},
   "source": [
    "# 전처리\n",
    "- JSON 형식으로\n",
    "    - 순회할 때마다 저장(리스트에 텍스트로)\n",
    "    - 텍스트를 개행 단위로 또 리스트에 저장\n",
    "    - 텍스트 0번째: rank(int), 1번째: title(str), 2번째[:4]: year(list(int)), 3번째: genre(list(str)), 4번째: score(float), 7번쨰: summary(str), 8번째: director(list(str)), 9번째: stars(list(str))\n",
    "    - 이 규칙이 깨진다면....에러 메시지 출력할 수 있게...\n",
    "    - genre는 대문자 나오기 직전까지 잘라서 리스트에 저장\n",
    "\n",
    "- 국가별로 한다면 country(str) 추가.. country에 rank가 종속, title에 나머지가 종속 id를 만들어야 할텐데... id는 summary가 식별가능한 유일한 값인듯.."
   ]
  },
  {
   "cell_type": "markdown",
   "id": "4ddfb6da-0adf-4628-a6af-1b2357662f4c",
   "metadata": {},
   "source": [
    "# 문제\n",
    "- text를 추출해서 split으로 구분하면 중간에 콘텐츠가 누락되는 경우 오류가 발생하고, 검출하기 어렵다.\n",
    "# 시도\n",
    "- 요소별로(제목, 포스터, 연도, 평점, 장르, 줄거리, 배우, 감독) XPATH를 추출해서 text나 src 등 속성을 가져오는 함수를 짠다.\n",
    "# 해결\n",
    "- 각각의 요소들의 XPATH를 확인하고, 모달마다 변경되는게 있는지 확인해본 결과 상대 경로는 모두 동일해서 손쉽게 가져올 수 있게 되었다.\n",
    "# 알게된 점\n",
    "- 모달은 전체 HTML에서 바로 확인이 불가능하고 javascript 클릭을 통해서만 접근이 가능하다."
   ]
  },
  {
   "cell_type": "code",
   "execution_count": null,
   "id": "2a489702-e071-4aa0-8d8b-9ed2ff388fc8",
   "metadata": {},
   "outputs": [],
   "source": [
    "# label과 text를 받아와서 dict로 묶어야 함!!!!!\n",
    "\n",
    "//*[@id=\"react-autowhatever-1--item-0\"]/div/div/label\n",
    "//*[@id=\"react-autowhatever-1--item-1\"]/div/div/label"
   ]
  },
  {
   "cell_type": "markdown",
   "id": "925539d6-7817-49e6-b7d3-13e33017d8f1",
   "metadata": {},
   "source": [
    "# 테스트코드"
   ]
  },
  {
   "cell_type": "code",
   "execution_count": null,
   "id": "cee0c080-528c-4fdf-ae19-7f7f91ef239f",
   "metadata": {},
   "outputs": [],
   "source": [
    "import pytest"
   ]
  },
  {
   "cell_type": "code",
   "execution_count": null,
   "id": "4b4a22d9-c05d-4b84-900a-6d2b33ded7fb",
   "metadata": {},
   "outputs": [],
   "source": [
    "## 각 for문마다 저장"
   ]
  }
 ],
 "metadata": {
  "kernelspec": {
   "display_name": "Python 3 (ipykernel)",
   "language": "python",
   "name": "python3"
  },
  "language_info": {
   "codemirror_mode": {
    "name": "ipython",
    "version": 3
   },
   "file_extension": ".py",
   "mimetype": "text/x-python",
   "name": "python",
   "nbconvert_exporter": "python",
   "pygments_lexer": "ipython3",
   "version": "3.9.12"
  }
 },
 "nbformat": 4,
 "nbformat_minor": 5
}
